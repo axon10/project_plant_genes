{
  "nbformat": 4,
  "nbformat_minor": 0,
  "metadata": {
    "colab": {
      "name": "norman_data.ipynb",
      "provenance": [],
      "collapsed_sections": [],
      "authorship_tag": "ABX9TyPs57GsE2YXTLl/Ou600Pkk",
      "include_colab_link": true
    },
    "kernelspec": {
      "name": "python3",
      "display_name": "Python 3"
    }
  },
  "cells": [
    {
      "cell_type": "markdown",
      "metadata": {
        "id": "view-in-github",
        "colab_type": "text"
      },
      "source": [
        "<a href=\"https://colab.research.google.com/github/axonImpulses/plant_genome_associations/blob/master/norman_data.ipynb\" target=\"_parent\"><img src=\"https://colab.research.google.com/assets/colab-badge.svg\" alt=\"Open In Colab\"/></a>"
      ]
    },
    {
      "cell_type": "code",
      "metadata": {
        "id": "jUG6SFONiw4g",
        "colab_type": "code",
        "outputId": "f3296c1a-93eb-4d39-8f34-77cc41038e8a",
        "colab": {
          "base_uri": "https://localhost:8080/",
          "height": 124
        }
      },
      "source": [
        "\n",
        "from google.colab import drive\n",
        "drive.mount('/content/drive/')\n",
        "\n",
        "filename = '/content/drive/My Drive/Colab Notebooks/cogs.txt'"
      ],
      "execution_count": 0,
      "outputs": [
        {
          "output_type": "stream",
          "text": [
            "Go to this URL in a browser: https://accounts.google.com/o/oauth2/auth?client_id=947318989803-6bn6qk8qdgf4n4g3pfee6491hc0brc4i.apps.googleusercontent.com&redirect_uri=urn%3aietf%3awg%3aoauth%3a2.0%3aoob&response_type=code&scope=email%20https%3a%2f%2fwww.googleapis.com%2fauth%2fdocs.test%20https%3a%2f%2fwww.googleapis.com%2fauth%2fdrive%20https%3a%2f%2fwww.googleapis.com%2fauth%2fdrive.photos.readonly%20https%3a%2f%2fwww.googleapis.com%2fauth%2fpeopleapi.readonly\n",
            "\n",
            "Enter your authorization code:\n",
            "··········\n",
            "Mounted at /content/drive/\n"
          ],
          "name": "stdout"
        }
      ]
    },
    {
      "cell_type": "code",
      "metadata": {
        "id": "bN7Zb1_NGeeW",
        "colab_type": "code",
        "colab": {}
      },
      "source": [
        "import numpy as np\n",
        "import pandas as pd\n",
        "import umap\n",
        "reducer = umap.UMAP()"
      ],
      "execution_count": 0,
      "outputs": []
    },
    {
      "cell_type": "code",
      "metadata": {
        "id": "7y5QkJWFkdam",
        "colab_type": "code",
        "outputId": "10fa5076-42a7-4828-ea86-4bb8f7c73441",
        "colab": {
          "base_uri": "https://localhost:8080/",
          "height": 277
        }
      },
      "source": [
        "gene_index = 4\n",
        "genome_index = 1\n",
        "cogfile = '/content/drive/My Drive/Colab Notebooks/cogs.txt'\n",
        "\n",
        "def genomes_genes(file, genome_index, gene_index):\n",
        "  unique_genomes = []\n",
        "  unique_genes = []\n",
        "  with open(file, 'r+') as fh:\n",
        "    for line in fh.readlines()[1:]:\n",
        "      if line.split()[genome_index] not in unique_genomes:\n",
        "        unique_genomes.append(line.split()[genome_index])\n",
        "      if line.split()[gene_index] not in unique_genes:\n",
        "        unique_genes.append(line.split()[gene_index])\n",
        "  return [unique_genomes, unique_genes]\n",
        "\n",
        "\n",
        "def matrix(file, genes, genomes, gene_col, genome_col):\n",
        "  gcols = pd.Index(genes, name = \"genes\")\n",
        "  grows = pd.Index(genomes, name = \"genomes\")\n",
        "  df = pd.DataFrame(data = np.zeros(shape = (len(genomes), len(genes))), index = grows, columns = gcols)\n",
        "  fh = open(file, 'r+')\n",
        "  for line in fh.readlines()[1:]:\n",
        "    genome = line.split()[genome_index]\n",
        "    gene = line.split()[gene_index]\n",
        "    df.at[genome, gene] = 1\n",
        "  fh.close()\n",
        "  return df\n",
        "\n",
        "gng = genomes_genes(cogfile, genome_index, gene_index)\n",
        "allgenomes = gng[0]\n",
        "allgenes = gng[1]\n",
        "feature_matrix = matrix(cogfile, allgenes, allgenomes, gene_index, genome_index)\n",
        "feature_matrix['Y'] = [0] * len(feature_matrix)\n",
        "print(feature_matrix.head(10))\n",
        "print(len(feature_matrix))"
      ],
      "execution_count": 0,
      "outputs": [
        {
          "output_type": "stream",
          "text": [
            "genes       COG1522  COG0859  COG0483  COG1066  ...  COG2214  COG5256  COG3388  Y\n",
            "genomes                                         ...                              \n",
            "2505679030      1.0      1.0      1.0      1.0  ...      0.0      0.0      0.0  0\n",
            "651053067       1.0      0.0      1.0      1.0  ...      0.0      0.0      0.0  0\n",
            "637000240       1.0      1.0      1.0      1.0  ...      0.0      0.0      0.0  0\n",
            "637000208       1.0      1.0      1.0      1.0  ...      0.0      0.0      0.0  0\n",
            "650716076       1.0      1.0      1.0      1.0  ...      0.0      0.0      0.0  0\n",
            "637000053       1.0      1.0      1.0      1.0  ...      0.0      0.0      0.0  0\n",
            "637000192       1.0      1.0      1.0      1.0  ...      0.0      0.0      0.0  0\n",
            "651324080       1.0      0.0      1.0      1.0  ...      0.0      0.0      0.0  0\n",
            "2571042743      1.0      0.0      1.0      1.0  ...      0.0      0.0      0.0  0\n",
            "2574180005      1.0      0.0      1.0      1.0  ...      0.0      0.0      0.0  0\n",
            "\n",
            "[10 rows x 4212 columns]\n",
            "3837\n"
          ],
          "name": "stdout"
        }
      ]
    },
    {
      "cell_type": "code",
      "metadata": {
        "id": "QfRA1YsTpaA3",
        "colab_type": "code",
        "colab": {}
      },
      "source": [
        ""
      ],
      "execution_count": 0,
      "outputs": []
    },
    {
      "cell_type": "code",
      "metadata": {
        "id": "kw2ClhgU3pEj",
        "colab_type": "code",
        "outputId": "cc4ede74-1288-4c8f-9a7e-ee481a8a2be7",
        "colab": {
          "base_uri": "https://localhost:8080/",
          "height": 191
        }
      },
      "source": [
        "fh = open('/content/drive/My Drive/Colab Notebooks/cogs.txt', 'r+')\n",
        "for i in fh.readlines()[:10]:\n",
        "  print(i, end = '')"
      ],
      "execution_count": 0,
      "outputs": [
        {
          "output_type": "stream",
          "text": [
            "taxid\tlabel\tgeneoid\tcog\tcatgetory\n",
            "Bacteroidetes\t2505679030\tNPA\t2505794583\tCOG1522\tK\n",
            "Bacteroidetes\t2505679030\tNPA\t2505794589\tCOG0859\tM\n",
            "Bacteroidetes\t2505679030\tNPA\t2505794821\tCOG0483\tG\n",
            "Alphaproteobacteria\t651053067\tPA\t651092731\tCOG1066\tO\n",
            "Alphaproteobacteria\t651053067\tPA\t651092733\tCOG0034\tF\n",
            "Bacteroidetes\t2505679030\tNPA\t2505789388\tCOG2217\tP\n",
            "Alphaproteobacteria\t637000240\tNPA\t637882566\tCOG0101\tJ\n",
            "Alphaproteobacteria\t637000240\tNPA\t637882571\tCOG0548\tE\n",
            "Alphaproteobacteria\t637000240\tNPA\t637882577\tCOG0642\tT\n"
          ],
          "name": "stdout"
        }
      ]
    },
    {
      "cell_type": "code",
      "metadata": {
        "id": "l-9L_xFs4xH3",
        "colab_type": "code",
        "colab": {}
      },
      "source": [
        "# Read the metadata to obtain the ground truth\n",
        "import csv\n",
        "\n",
        "\n",
        "   "
      ],
      "execution_count": 0,
      "outputs": []
    },
    {
      "cell_type": "code",
      "metadata": {
        "id": "oPI2S0oKP33p",
        "colab_type": "code",
        "outputId": "3903fb3b-7d5d-4b25-a83d-29da8a1f3349",
        "colab": {
          "base_uri": "https://localhost:8080/",
          "height": 260
        }
      },
      "source": [
        "with open(\"/content/drive/My Drive/Colab Notebooks/metadata_3837_img.tsv\") as tsvfile:\n",
        "    reader = csv.DictReader(tsvfile, dialect = 'excel-tab')\n",
        "    for ind, row in enumerate(reader):\n",
        "        #if ind > 20: \n",
        "        #    break\n",
        "        genome_id = row['taxon_oid']\n",
        "        if genome_id in feature_matrix.index:\n",
        "            # convert the OD to a taxon\n",
        "            taxon = list(row.values())[4:-1]\n",
        "            feature_matrix['Y'] = feature_matrix['Y'].astype(object)\n",
        "            feature_matrix.at[genome_id, 'Y'] = taxon\n",
        "print(feature_matrix.head(10))\n",
        "     "
      ],
      "execution_count": 0,
      "outputs": [
        {
          "output_type": "stream",
          "text": [
            "genes       COG1522  ...                                                  Y\n",
            "genomes              ...                                                   \n",
            "2505679030      1.0  ...  [Bacteroidetes, Bacteroidetes, Cytophagia, Cyt...\n",
            "651053067       1.0  ...  [Alphaproteobacteria, Proteobacteria, Alphapro...\n",
            "637000240       1.0  ...  [Alphaproteobacteria, Proteobacteria, Alphapro...\n",
            "637000208       1.0  ...  [Burkholderiales, Proteobacteria, Betaproteoba...\n",
            "650716076       1.0  ...  [Pseudomonas, Proteobacteria, Gammaproteobacte...\n",
            "637000053       1.0  ...  [Burkholderiales, Proteobacteria, Betaproteoba...\n",
            "637000192       1.0  ...  [Alphaproteobacteria, Proteobacteria, Alphapro...\n",
            "651324080       1.0  ...  [Bacillales, Firmicutes, Bacilli, Bacillales, ...\n",
            "2571042743      1.0  ...  [Actinobacteria_two, Actinobacteria, Actinobac...\n",
            "2574180005      1.0  ...  [Actinobacteria_two, Actinobacteria, Actinobac...\n",
            "\n",
            "[10 rows x 4212 columns]\n"
          ],
          "name": "stdout"
        }
      ]
    },
    {
      "cell_type": "code",
      "metadata": {
        "id": "j4tatfLF5_ox",
        "colab_type": "code",
        "colab": {}
      },
      "source": [
        "def genomicdistance(genome_id, reference_id):\n",
        "# Recursive algorithm which checks for similarity\n",
        "  def matching(taxon_1, taxon_2):\n",
        "    \n",
        "    if len(taxon_1) < 1 or len(taxon_2) < 1:\n",
        "        return 0\n",
        "    if taxon_1[0] == taxon_2[0]:\n",
        "      return 1 + matching(taxon_1[1:], taxon_2[1:])\n",
        "    else: \n",
        "      return 0\n",
        "  #print(reference_id in feature_matrix.index)\n",
        "  taxon_1 = feature_matrix.at[reference_id,'Y']\n",
        "  taxon_2 = feature_matrix.at[genome_id, 'Y']\n",
        "  \n",
        "  if len(taxon_1) > len(taxon_2):\n",
        "      return matching(taxon_1, taxon_2) / len(taxon_1)\n",
        "  else:\n",
        "      return matching(taxon_1, taxon_2) / len(taxon_2)\n"
      ],
      "execution_count": 0,
      "outputs": []
    },
    {
      "cell_type": "code",
      "metadata": {
        "id": "rYtpm34BS1O2",
        "colab_type": "code",
        "outputId": "94725128-5d5b-4d4d-b7c4-e3c18dec19ca",
        "colab": {
          "base_uri": "https://localhost:8080/",
          "height": 919
        }
      },
      "source": [
        "\n",
        "for genome, row in feature_matrix.iterrows():\n",
        "    #print(type(genome))\n",
        "    #print(genome)\n",
        "    distance = genomicdistance(genome, '2505679030')\n",
        "    feature_matrix.at[genome, 'Y2'] = distance\n",
        "    #print(distance)\n",
        "print(feature_matrix.iloc[450:500,-1])"
      ],
      "execution_count": 0,
      "outputs": [
        {
          "output_type": "stream",
          "text": [
            "genomes\n",
            "2576861342    0.000000\n",
            "2576861384    0.000000\n",
            "2576861345    0.000000\n",
            "2576861346    0.000000\n",
            "2576861348    0.000000\n",
            "2576861349    0.000000\n",
            "2576861368    0.000000\n",
            "2576861352    0.000000\n",
            "2576861377    0.000000\n",
            "2576861424    0.000000\n",
            "2576861435    0.000000\n",
            "2576861471    0.000000\n",
            "2576861456    0.833333\n",
            "2576861478    0.000000\n",
            "2576861425    0.000000\n",
            "2576861498    0.333333\n",
            "2576861499    0.333333\n",
            "2576861554    0.333333\n",
            "640427122     0.000000\n",
            "2576861487    0.000000\n",
            "2576861488    0.000000\n",
            "2576861656    0.000000\n",
            "2576861677    0.000000\n",
            "2576861679    0.000000\n",
            "2576861765    0.000000\n",
            "2576861768    0.000000\n",
            "2576861772    0.000000\n",
            "2576861745    0.000000\n",
            "2576861748    0.000000\n",
            "2576861752    0.000000\n",
            "2576861754    0.000000\n",
            "2576861755    0.000000\n",
            "2576861758    0.000000\n",
            "2576861779    0.000000\n",
            "2576861725    0.000000\n",
            "2576861726    0.000000\n",
            "2576861707    0.000000\n",
            "2576861731    0.000000\n",
            "2576861732    0.000000\n",
            "2576861737    0.000000\n",
            "2576861669    0.000000\n",
            "2576861740    0.000000\n",
            "2571042112    0.000000\n",
            "2571042114    0.000000\n",
            "2571042037    0.000000\n",
            "2571042294    0.000000\n",
            "2571042301    0.000000\n",
            "2571042144    0.000000\n",
            "2571042232    0.000000\n",
            "2571042147    0.000000\n",
            "Name: Y2, dtype: float64\n"
          ],
          "name": "stdout"
        }
      ]
    },
    {
      "cell_type": "code",
      "metadata": {
        "id": "bW9HscNeI6lq",
        "colab_type": "code",
        "colab": {}
      },
      "source": [
        "# 2nd implementation of genomic distance using the Bray-Curtis metric\n",
        "def bcdistance(gene_ref, gene_2check):\n",
        "  pass\n",
        "  # build ete tree TODO: read ete doc\n",
        "  # scrape terms/taxons for both genes TODO: find out how to get ncbi id from img id\n",
        "  # 1 or 0 for if they are equal, make sure they are the same length\n",
        "  # return scipy bc distance (see scipy.pdist)\n",
        "  # beneficial because its more normalized? and more accepted metric lolz\n",
        "\n"
      ],
      "execution_count": 0,
      "outputs": []
    },
    {
      "cell_type": "code",
      "metadata": {
        "id": "TTRI54rtEs7g",
        "colab_type": "code",
        "colab": {}
      },
      "source": [
        "'''###Questions for Keshav\n",
        "Why Bray-Curtis distance? \n",
        "I kind of have an idea and ik its like more normalized (ik we \n",
        " normalize features, but does normalizing matter in terms of your ground truth)\n",
        "Does Bray-Curtis distance penalize in any direction of closeness (like for example\n",
        " having same kingdom but nothing else vs being similar down to the genus)\n",
        "^ related to above, recommended weights for each taxon?\n",
        "\n",
        "If you wanna do mathusan's method, just increment and then divide by max number of terms\n",
        "\n",
        "Also why Bray-Curtis over dashing?\n",
        "\n",
        "\n",
        "'''"
      ],
      "execution_count": 0,
      "outputs": []
    },
    {
      "cell_type": "code",
      "metadata": {
        "id": "WW17IsuzGDWy",
        "colab_type": "code",
        "colab": {}
      },
      "source": [
        "'''Currently, pure genomic distances (from dashing) will occasionally group\n",
        " together taxonomically diverse microbes. We are making the assumption, this \n",
        " is because the genomic algorithm is picking up similarities which are \n",
        " uncharacteristic of the bug.'''\n",
        " '''Means that dashing will group together microbes that are taxonomically\n",
        " diverse, we assume this is because it is identifying commonalities between them\n",
        " that are not representative of taxonomic similarity...\n",
        "\n",
        " ^\n",
        "\n",
        " ^How is dashing doing this? How are we avoiding this?\n",
        " ^finding number of genome bit/mnucleotide similarities and not really functional/gene similarity\n",
        "\n",
        " \"\"\"Feature selection to deduce these taxonomically characteristic gene sets will \n",
        "allow us to lower gene space when looking for isolation site specific genes.\"\"\"\"\n",
        "\n",
        "(this means that we eliminate all genes that do not affect, say, taxonomic\n",
        " distance which in turn won't affect isolation site, to my understanding?)\n",
        "\n",
        "i.e. if all genomes express a metabolic enzyme then its safe to say that \n",
        "metabolic enzyme isnt too useful/ unique to that bacteria, \n",
        "but if its only present in 1 or 2 bacteria then it might be significant to \n",
        "where that bacteria is isolated or the function of that bacteria \n",
        "(is there enough data tho? yes right?)\n",
        "Keshav: \"Lol really depends we ideally want a huge tight cluster that has microbes from diff isolation sites\"\n",
        ">If this doesnt work out just use dasher distances and do plant analysis off that\n",
        "\n",
        "\n",
        "Aside: cool potential to discover gene function and stuff and unknown stuff\n",
        "Also im making the assumption: feature selection isnt good enough to reduce to\n",
        "only 2 features? since our data is so large\n"
      ],
      "execution_count": 0,
      "outputs": []
    },
    {
      "cell_type": "markdown",
      "metadata": {
        "id": "WEQdlem4c9HW",
        "colab_type": "text"
      },
      "source": [
        "TIME FOR SOME UMAP *BABYYYY* oh wait feature selection."
      ]
    },
    {
      "cell_type": "code",
      "metadata": {
        "id": "9t83OCiAdESx",
        "colab_type": "code",
        "outputId": "c499aa20-3fb6-4a1e-db0e-d619f5df42de",
        "colab": {
          "base_uri": "https://localhost:8080/",
          "height": 173
        }
      },
      "source": [
        "print(feature_matrix.head())"
      ],
      "execution_count": 0,
      "outputs": [
        {
          "output_type": "stream",
          "text": [
            "genes       COG1522  ...   Y2\n",
            "genomes              ...     \n",
            "2505679030      1.0  ...  1.0\n",
            "651053067       1.0  ...  0.0\n",
            "637000240       1.0  ...  0.0\n",
            "637000208       1.0  ...  0.0\n",
            "650716076       1.0  ...  0.0\n",
            "\n",
            "[5 rows x 4213 columns]\n"
          ],
          "name": "stdout"
        }
      ]
    },
    {
      "cell_type": "code",
      "metadata": {
        "id": "9_um9_GRJpkj",
        "colab_type": "code",
        "outputId": "b78cdce1-766c-49ee-f527-fe01d585f132",
        "colab": {
          "base_uri": "https://localhost:8080/",
          "height": 149
        }
      },
      "source": [
        "'''\n",
        "what exactly would the dimensions of the returned result from umap really mean \n",
        "I read thru pca and i understand you're like reducing down n dimensions to the \n",
        "principle components, but how can you interpret the data and cluster it properly relative to the ground truth\n",
        "when you only have the information from 2 or so dimensions, (no axis to tell gtruth on)\n",
        "\n",
        "UMAP: uniform manifold approximation-spatial coords within this abstract space (2D, or 10D is ok) is equivalent to original dimensionality\n",
        "\n",
        "Keshav: tSNE is shit, so is PCA\n",
        "\n",
        "Or is the whole point that you can cluster this and then check the ground truth manually using the labels and a plot"
      ],
      "execution_count": 0,
      "outputs": [
        {
          "output_type": "error",
          "ename": "SyntaxError",
          "evalue": "ignored",
          "traceback": [
            "\u001b[0;36m  File \u001b[0;32m\"<ipython-input-11-5f19700f12d9>\"\u001b[0;36m, line \u001b[0;32m11\u001b[0m\n\u001b[0;31m    Or is the whole point that you can cluster this and then check the ground truth manually using the labels and a plot\u001b[0m\n\u001b[0m                                                                                                                        \n^\u001b[0m\n\u001b[0;31mSyntaxError\u001b[0m\u001b[0;31m:\u001b[0m EOF while scanning triple-quoted string literal\n"
          ]
        }
      ]
    },
    {
      "cell_type": "code",
      "metadata": {
        "id": "956mXhOfBATo",
        "colab_type": "code",
        "outputId": "69aae96e-b53d-4599-9c10-d2db1382a8b5",
        "colab": {
          "base_uri": "https://localhost:8080/",
          "height": 277
        }
      },
      "source": [
        "Y = pd.DataFrame(data = feature_matrix.iloc[:, -1], index = feature_matrix.index)\n",
        "feature_matrix.drop(columns = ['Y', 'Y2'])\n",
        "print(feature_matrix)\n",
        "\n",
        "#print(Y)\n",
        "from sklearn.datasets import load_iris\n",
        "from sklearn.feature_selection import SelectKBest\n",
        "from sklearn.feature_selection import chi2\n",
        "#X, y = load_iris(return_X_y=True)\n"
      ],
      "execution_count": 0,
      "outputs": [
        {
          "output_type": "stream",
          "text": [
            "genes       COG1522  ...   Y2\n",
            "genomes              ...     \n",
            "2505679030      1.0  ...  1.0\n",
            "651053067       1.0  ...  0.0\n",
            "637000240       1.0  ...  0.0\n",
            "637000208       1.0  ...  0.0\n",
            "650716076       1.0  ...  0.0\n",
            "...             ...  ...  ...\n",
            "2643221931      1.0  ...  0.0\n",
            "2643221933      1.0  ...  0.0\n",
            "2643221934      1.0  ...  0.0\n",
            "2643221904      1.0  ...  0.0\n",
            "2643221912      1.0  ...  0.0\n",
            "\n",
            "[3837 rows x 4213 columns]\n"
          ],
          "name": "stdout"
        }
      ]
    },
    {
      "cell_type": "code",
      "metadata": {
        "id": "OzOSZRt8Beka",
        "colab_type": "code",
        "outputId": "b2fb670b-c413-493c-e734-d27ecd96dc96",
        "colab": {
          "base_uri": "https://localhost:8080/",
          "height": 815
        }
      },
      "source": [
        "from sklearn.feature_selection import VarianceThreshold\n",
        "# split feature matrix into features and target\n",
        "X = feature_matrix.iloc[:, 0:-2]\n",
        "\n",
        "print('Original Features :',  X, ' with ',  len(X.columns) , ' features ')\n",
        "Y = feature_matrix.iloc[:, -1]\n",
        "print('Original Targets :', Y)\n",
        "\n",
        "# remove features with low variance, aka features with low correlation to a microbe's function/taxonomy\n",
        "selector = VarianceThreshold(threshold=(.05)).fit(X,Y)\n",
        "\n",
        "# selecting only most salient features,alternatively could use df.drop()\n",
        "vdf = feature_matrix[feature_matrix.columns[selector.get_support(indices=True)]]\n",
        "\n",
        "\n",
        "X = vdf\n",
        "print('V-based reduced feature matrix with ', str(len(X.columns)), 'features: \\n', X)\n",
        "print('\\n from ', str(len(X)), ' genomes')\n",
        "# update the target\n",
        "Y = feature_matrix.loc[list(vdf.index), 'Y2']\n",
        "#print('Y)\n",
        "#print(X)\n"
      ],
      "execution_count": 0,
      "outputs": [
        {
          "output_type": "stream",
          "text": [
            "Original Features : genes       COG1522  COG0859  COG0483  ...  COG2214  COG5256  COG3388\n",
            "genomes                                ...                           \n",
            "2505679030      1.0      1.0      1.0  ...      0.0      0.0      0.0\n",
            "651053067       1.0      0.0      1.0  ...      0.0      0.0      0.0\n",
            "637000240       1.0      1.0      1.0  ...      0.0      0.0      0.0\n",
            "637000208       1.0      1.0      1.0  ...      0.0      0.0      0.0\n",
            "650716076       1.0      1.0      1.0  ...      0.0      0.0      0.0\n",
            "...             ...      ...      ...  ...      ...      ...      ...\n",
            "2643221931      1.0      0.0      1.0  ...      0.0      0.0      0.0\n",
            "2643221933      1.0      0.0      1.0  ...      0.0      1.0      0.0\n",
            "2643221934      1.0      0.0      1.0  ...      0.0      0.0      0.0\n",
            "2643221904      1.0      1.0      1.0  ...      0.0      0.0      0.0\n",
            "2643221912      1.0      1.0      1.0  ...      0.0      0.0      0.0\n",
            "\n",
            "[3837 rows x 4211 columns]  with  4211  features \n",
            "Original Targets : genomes\n",
            "2505679030    1.0\n",
            "651053067     0.0\n",
            "637000240     0.0\n",
            "637000208     0.0\n",
            "650716076     0.0\n",
            "             ... \n",
            "2643221931    0.0\n",
            "2643221933    0.0\n",
            "2643221934    0.0\n",
            "2643221904    0.0\n",
            "2643221912    0.0\n",
            "Name: Y2, Length: 3837, dtype: float64\n",
            "V-based reduced feature matrix with  3098 features: \n",
            " genes       COG0859  COG0483  COG1032  ...  COG3160  COG1913  COG2456\n",
            "genomes                                ...                           \n",
            "2505679030      1.0      1.0      0.0  ...      0.0      0.0      0.0\n",
            "651053067       0.0      1.0      1.0  ...      0.0      0.0      0.0\n",
            "637000240       1.0      1.0      1.0  ...      0.0      0.0      0.0\n",
            "637000208       1.0      1.0      1.0  ...      0.0      0.0      0.0\n",
            "650716076       1.0      1.0      0.0  ...      1.0      0.0      0.0\n",
            "...             ...      ...      ...  ...      ...      ...      ...\n",
            "2643221931      0.0      1.0      0.0  ...      0.0      0.0      0.0\n",
            "2643221933      0.0      1.0      0.0  ...      0.0      0.0      0.0\n",
            "2643221934      0.0      1.0      0.0  ...      0.0      0.0      0.0\n",
            "2643221904      1.0      1.0      0.0  ...      0.0      0.0      0.0\n",
            "2643221912      1.0      1.0      0.0  ...      0.0      0.0      0.0\n",
            "\n",
            "[3837 rows x 3098 columns]\n",
            "\n",
            " from  3837  genomes\n"
          ],
          "name": "stdout"
        }
      ]
    },
    {
      "cell_type": "code",
      "metadata": {
        "id": "qOp4QYrDJIfF",
        "colab_type": "code",
        "colab": {}
      },
      "source": [
        "'''\n",
        "HDBScan is a clustering algorithm right\n",
        "\n",
        "And it will only work well on 2d data, which hopefully umap should give us\n",
        "\n",
        "Because the original features are lost in a sense does that mean that at a large scale there isnt a way to see"
      ],
      "execution_count": 0,
      "outputs": []
    },
    {
      "cell_type": "code",
      "metadata": {
        "id": "E-OJqJYNYICr",
        "colab_type": "code",
        "colab": {}
      },
      "source": [
        "''' How do you actually tune hyperparameters for HDBScan iteratively and using your taxonomic distance as a loss function\n",
        "Per cluster, taxonomic similarity score, optimize via modelselection gridsearch algorithm or do it manually\n",
        "\n",
        "(avg taxonomic distance divided by loss)\n",
        "lol or do u do it manually"
      ],
      "execution_count": 0,
      "outputs": []
    },
    {
      "cell_type": "code",
      "metadata": {
        "id": "tf0BWYkmlPdt",
        "colab_type": "code",
        "colab": {}
      },
      "source": [
        "# Numerically encode species level, and on clustering side you have 1234 (species level)\n"
      ],
      "execution_count": 0,
      "outputs": []
    },
    {
      "cell_type": "code",
      "metadata": {
        "id": "r37ViHl-C0Yi",
        "colab_type": "code",
        "outputId": "fc3ced39-9833-48f0-f5aa-bcad3b67cb3e",
        "colab": {
          "base_uri": "https://localhost:8080/",
          "height": 139
        }
      },
      "source": [
        "import umap.umap_ as umap\n",
        "reducer = umap.UMAP()\n",
        "embedding = reducer.fit_transform(X)\n",
        "embedding.shape\n",
        "print(embedding)"
      ],
      "execution_count": 0,
      "outputs": [
        {
          "output_type": "stream",
          "text": [
            "[[ 7.16827     1.9446443 ]\n",
            " [-7.962232    2.6540387 ]\n",
            " [-8.670106    4.814838  ]\n",
            " ...\n",
            " [-6.2995725   3.7145793 ]\n",
            " [ 5.3293166  -0.84797424]\n",
            " [ 5.38489    -0.8994349 ]]\n"
          ],
          "name": "stdout"
        }
      ]
    },
    {
      "cell_type": "code",
      "metadata": {
        "id": "uS5NRRjNC070",
        "colab_type": "code",
        "outputId": "159e60e9-2df4-4da3-bee2-ae7558a0e495",
        "colab": {
          "base_uri": "https://localhost:8080/",
          "height": 290
        }
      },
      "source": [
        "import matplotlib.pyplot as plt\n",
        "import seaborn as sns\n",
        "\n",
        "#plt.scatter(*embedding.T, s = 1)\n",
        "plt.scatter(embedding[:, 0], embedding[:, 1],  s = 1) #c=[sns.color_palette()[x] for x in Y])]\n",
        "#plt.gca().set_aspect('equal', 'datalim')\n",
        "axes = plt.gca()\n",
        "axes.set_xlim([-25,25])\n",
        "axes.set_ylim([-22,22])\n",
        "plt.title('UMAP projection of bacterial genomes dataset', fontsize=24);"
      ],
      "execution_count": 0,
      "outputs": [
        {
          "output_type": "display_data",
          "data": {
            "image/png": "[encoded data removed]",
            "text/plain": [
              "<Figure size 432x288 with 1 Axes>"
            ]
          },
          "metadata": {
            "tags": [],
            "needs_background": "light"
          }
        }
      ]
    },
    {
      "cell_type": "code",
      "metadata": {
        "id": "qpdJVoswDgsN",
        "colab_type": "code",
        "outputId": "b3c2bb1c-7b2c-4bac-c6a5-cf20dada2020",
        "colab": {
          "base_uri": "https://localhost:8080/",
          "height": 1000
        }
      },
      "source": [
        "!pip install umap-learn[plot]\n"
      ],
      "execution_count": 0,
      "outputs": [
        {
          "output_type": "stream",
          "text": [
            "Requirement already satisfied: umap-learn[plot] in /usr/local/lib/python3.6/dist-packages (0.4.1)\n",
            "Requirement already satisfied: scikit-learn>=0.20 in /usr/local/lib/python3.6/dist-packages (from umap-learn[plot]) (0.22.2.post1)\n",
            "Requirement already satisfied: numpy>=1.15 in /usr/local/lib/python3.6/dist-packages (from umap-learn[plot]) (1.18.2)\n",
            "Requirement already satisfied: scipy>=1.0 in /usr/local/lib/python3.6/dist-packages (from umap-learn[plot]) (1.4.1)\n",
            "Requirement already satisfied: tbb>=2019.0 in /usr/local/lib/python3.6/dist-packages (from umap-learn[plot]) (2020.0.133)\n",
            "Requirement already satisfied: numba!=0.47,>=0.46 in /usr/local/lib/python3.6/dist-packages (from umap-learn[plot]) (0.48.0)\n",
            "Requirement already satisfied: holoviews; extra == \"plot\" in /usr/local/lib/python3.6/dist-packages (from umap-learn[plot]) (1.13.2)\n",
            "Requirement already satisfied: bokeh; extra == \"plot\" in /usr/local/lib/python3.6/dist-packages (from umap-learn[plot]) (2.0.1)\n",
            "Requirement already satisfied: datashader; extra == \"plot\" in /usr/local/lib/python3.6/dist-packages (from umap-learn[plot]) (0.10.0)\n",
            "Requirement already satisfied: matplotlib; extra == \"plot\" in /usr/local/lib/python3.6/dist-packages (from umap-learn[plot]) (3.2.1)\n",
            "Requirement already satisfied: colorcet; extra == \"plot\" in /usr/local/lib/python3.6/dist-packages (from umap-learn[plot]) (2.0.2)\n",
            "Requirement already satisfied: joblib>=0.11 in /usr/local/lib/python3.6/dist-packages (from scikit-learn>=0.20->umap-learn[plot]) (0.14.1)\n",
            "Requirement already satisfied: llvmlite<0.32.0,>=0.31.0dev0 in /usr/local/lib/python3.6/dist-packages (from numba!=0.47,>=0.46->umap-learn[plot]) (0.31.0)\n",
            "Requirement already satisfied: setuptools in /usr/local/lib/python3.6/dist-packages (from numba!=0.47,>=0.46->umap-learn[plot]) (46.1.3)\n",
            "Requirement already satisfied: pandas in /usr/local/lib/python3.6/dist-packages (from holoviews; extra == \"plot\"->umap-learn[plot]) (1.0.3)\n",
            "Requirement already satisfied: param<2.0,>=1.9.3 in /usr/local/lib/python3.6/dist-packages (from holoviews; extra == \"plot\"->umap-learn[plot]) (1.9.3)\n",
            "Requirement already satisfied: pyviz-comms>=0.7.3 in /usr/local/lib/python3.6/dist-packages (from holoviews; extra == \"plot\"->umap-learn[plot]) (0.7.4)\n",
            "Requirement already satisfied: panel>=0.7.0 in /usr/local/lib/python3.6/dist-packages (from holoviews; extra == \"plot\"->umap-learn[plot]) (0.9.5)\n",
            "Requirement already satisfied: PyYAML>=3.10 in /usr/local/lib/python3.6/dist-packages (from bokeh; extra == \"plot\"->umap-learn[plot]) (3.13)\n",
            "Requirement already satisfied: typing-extensions>=3.7.4 in /usr/local/lib/python3.6/dist-packages (from bokeh; extra == \"plot\"->umap-learn[plot]) (3.7.4.2)\n",
            "Requirement already satisfied: packaging>=16.8 in /usr/local/lib/python3.6/dist-packages (from bokeh; extra == \"plot\"->umap-learn[plot]) (20.3)\n",
            "Requirement already satisfied: python-dateutil>=2.1 in /usr/local/lib/python3.6/dist-packages (from bokeh; extra == \"plot\"->umap-learn[plot]) (2.8.1)\n",
            "Requirement already satisfied: tornado>=5 in /usr/local/lib/python3.6/dist-packages (from bokeh; extra == \"plot\"->umap-learn[plot]) (6.0.4)\n",
            "Requirement already satisfied: pillow>=4.0 in /usr/local/lib/python3.6/dist-packages (from bokeh; extra == \"plot\"->umap-learn[plot]) (7.0.0)\n",
            "Requirement already satisfied: Jinja2>=2.7 in /usr/local/lib/python3.6/dist-packages (from bokeh; extra == \"plot\"->umap-learn[plot]) (2.11.2)\n",
            "Requirement already satisfied: xarray>=0.9.6 in /usr/local/lib/python3.6/dist-packages (from datashader; extra == \"plot\"->umap-learn[plot]) (0.15.1)\n",
            "Requirement already satisfied: datashape>=0.5.1 in /usr/local/lib/python3.6/dist-packages (from datashader; extra == \"plot\"->umap-learn[plot]) (0.5.2)\n",
            "Requirement already satisfied: dask[complete]>=0.18.0 in /usr/local/lib/python3.6/dist-packages (from datashader; extra == \"plot\"->umap-learn[plot]) (2.12.0)\n",
            "Requirement already satisfied: pyct[cmd] in /usr/local/lib/python3.6/dist-packages (from datashader; extra == \"plot\"->umap-learn[plot]) (0.4.6)\n",
            "Requirement already satisfied: toolz>=0.7.4 in /usr/local/lib/python3.6/dist-packages (from datashader; extra == \"plot\"->umap-learn[plot]) (0.10.0)\n",
            "Requirement already satisfied: scikit-image in /usr/local/lib/python3.6/dist-packages (from datashader; extra == \"plot\"->umap-learn[plot]) (0.16.2)\n",
            "Requirement already satisfied: kiwisolver>=1.0.1 in /usr/local/lib/python3.6/dist-packages (from matplotlib; extra == \"plot\"->umap-learn[plot]) (1.2.0)\n",
            "Requirement already satisfied: cycler>=0.10 in /usr/local/lib/python3.6/dist-packages (from matplotlib; extra == \"plot\"->umap-learn[plot]) (0.10.0)\n",
            "Requirement already satisfied: pyparsing!=2.0.4,!=2.1.2,!=2.1.6,>=2.0.1 in /usr/local/lib/python3.6/dist-packages (from matplotlib; extra == \"plot\"->umap-learn[plot]) (2.4.7)\n",
            "Requirement already satisfied: pytz>=2017.2 in /usr/local/lib/python3.6/dist-packages (from pandas->holoviews; extra == \"plot\"->umap-learn[plot]) (2018.9)\n",
            "Requirement already satisfied: tqdm in /usr/local/lib/python3.6/dist-packages (from panel>=0.7.0->holoviews; extra == \"plot\"->umap-learn[plot]) (4.38.0)\n",
            "Requirement already satisfied: markdown in /usr/local/lib/python3.6/dist-packages (from panel>=0.7.0->holoviews; extra == \"plot\"->umap-learn[plot]) (3.2.1)\n",
            "Requirement already satisfied: six in /usr/local/lib/python3.6/dist-packages (from packaging>=16.8->bokeh; extra == \"plot\"->umap-learn[plot]) (1.12.0)\n",
            "Requirement already satisfied: MarkupSafe>=0.23 in /usr/local/lib/python3.6/dist-packages (from Jinja2>=2.7->bokeh; extra == \"plot\"->umap-learn[plot]) (1.1.1)\n",
            "Requirement already satisfied: multipledispatch>=0.4.7 in /usr/local/lib/python3.6/dist-packages (from datashape>=0.5.1->datashader; extra == \"plot\"->umap-learn[plot]) (0.6.0)\n",
            "Requirement already satisfied: distributed>=2.0; extra == \"complete\" in /usr/local/lib/python3.6/dist-packages (from dask[complete]>=0.18.0->datashader; extra == \"plot\"->umap-learn[plot]) (2.14.0)\n",
            "Requirement already satisfied: fsspec>=0.6.0; extra == \"complete\" in /usr/local/lib/python3.6/dist-packages (from dask[complete]>=0.18.0->datashader; extra == \"plot\"->umap-learn[plot]) (0.7.2)\n",
            "Requirement already satisfied: partd>=0.3.10; extra == \"complete\" in /usr/local/lib/python3.6/dist-packages (from dask[complete]>=0.18.0->datashader; extra == \"plot\"->umap-learn[plot]) (1.1.0)\n",
            "Requirement already satisfied: cloudpickle>=0.2.1; extra == \"complete\" in /usr/local/lib/python3.6/dist-packages (from dask[complete]>=0.18.0->datashader; extra == \"plot\"->umap-learn[plot]) (1.3.0)\n",
            "Requirement already satisfied: requests; extra == \"cmd\" in /usr/local/lib/python3.6/dist-packages (from pyct[cmd]->datashader; extra == \"plot\"->umap-learn[plot]) (2.21.0)\n",
            "Requirement already satisfied: PyWavelets>=0.4.0 in /usr/local/lib/python3.6/dist-packages (from scikit-image->datashader; extra == \"plot\"->umap-learn[plot]) (1.1.1)\n",
            "Requirement already satisfied: networkx>=2.0 in /usr/local/lib/python3.6/dist-packages (from scikit-image->datashader; extra == \"plot\"->umap-learn[plot]) (2.4)\n",
            "Requirement already satisfied: imageio>=2.3.0 in /usr/local/lib/python3.6/dist-packages (from scikit-image->datashader; extra == \"plot\"->umap-learn[plot]) (2.4.1)\n",
            "Requirement already satisfied: click>=6.6 in /usr/local/lib/python3.6/dist-packages (from distributed>=2.0; extra == \"complete\"->dask[complete]>=0.18.0->datashader; extra == \"plot\"->umap-learn[plot]) (7.1.1)\n",
            "Requirement already satisfied: msgpack>=0.6.0 in /usr/local/lib/python3.6/dist-packages (from distributed>=2.0; extra == \"complete\"->dask[complete]>=0.18.0->datashader; extra == \"plot\"->umap-learn[plot]) (1.0.0)\n",
            "Requirement already satisfied: psutil>=5.0 in /usr/local/lib/python3.6/dist-packages (from distributed>=2.0; extra == \"complete\"->dask[complete]>=0.18.0->datashader; extra == \"plot\"->umap-learn[plot]) (5.4.8)\n",
            "Requirement already satisfied: tblib>=1.6.0 in /usr/local/lib/python3.6/dist-packages (from distributed>=2.0; extra == \"complete\"->dask[complete]>=0.18.0->datashader; extra == \"plot\"->umap-learn[plot]) (1.6.0)\n",
            "Requirement already satisfied: sortedcontainers!=2.0.0,!=2.0.1 in /usr/local/lib/python3.6/dist-packages (from distributed>=2.0; extra == \"complete\"->dask[complete]>=0.18.0->datashader; extra == \"plot\"->umap-learn[plot]) (2.1.0)\n",
            "Requirement already satisfied: zict>=0.1.3 in /usr/local/lib/python3.6/dist-packages (from distributed>=2.0; extra == \"complete\"->dask[complete]>=0.18.0->datashader; extra == \"plot\"->umap-learn[plot]) (2.0.0)\n",
            "Requirement already satisfied: locket in /usr/local/lib/python3.6/dist-packages (from partd>=0.3.10; extra == \"complete\"->dask[complete]>=0.18.0->datashader; extra == \"plot\"->umap-learn[plot]) (0.2.0)\n",
            "Requirement already satisfied: urllib3<1.25,>=1.21.1 in /usr/local/lib/python3.6/dist-packages (from requests; extra == \"cmd\"->pyct[cmd]->datashader; extra == \"plot\"->umap-learn[plot]) (1.24.3)\n",
            "Requirement already satisfied: chardet<3.1.0,>=3.0.2 in /usr/local/lib/python3.6/dist-packages (from requests; extra == \"cmd\"->pyct[cmd]->datashader; extra == \"plot\"->umap-learn[plot]) (3.0.4)\n",
            "Requirement already satisfied: idna<2.9,>=2.5 in /usr/local/lib/python3.6/dist-packages (from requests; extra == \"cmd\"->pyct[cmd]->datashader; extra == \"plot\"->umap-learn[plot]) (2.8)\n",
            "Requirement already satisfied: certifi>=2017.4.17 in /usr/local/lib/python3.6/dist-packages (from requests; extra == \"cmd\"->pyct[cmd]->datashader; extra == \"plot\"->umap-learn[plot]) (2020.4.5.1)\n",
            "Requirement already satisfied: decorator>=4.3.0 in /usr/local/lib/python3.6/dist-packages (from networkx>=2.0->scikit-image->datashader; extra == \"plot\"->umap-learn[plot]) (4.4.2)\n",
            "Requirement already satisfied: heapdict in /usr/local/lib/python3.6/dist-packages (from zict>=0.1.3->distributed>=2.0; extra == \"complete\"->dask[complete]>=0.18.0->datashader; extra == \"plot\"->umap-learn[plot]) (1.0.1)\n"
          ],
          "name": "stdout"
        }
      ]
    },
    {
      "cell_type": "code",
      "metadata": {
        "id": "RxCQGWe_ZNH0",
        "colab_type": "code",
        "outputId": "59fa40b1-b804-45dd-dd90-2348142e2775",
        "colab": {
          "base_uri": "https://localhost:8080/",
          "height": 703
        }
      },
      "source": [
        "!pip install umap-learn.plot\n",
        "import umap\n",
        "import numpy\n",
        "import umap.plot\n",
        "\n",
        "mapper = umap.UMAP().fit(X)\n",
        "umap.plot.points(mapper)"
      ],
      "execution_count": 0,
      "outputs": [
        {
          "output_type": "stream",
          "text": [
            "\u001b[31mERROR: Could not find a version that satisfies the requirement umap-learn.plot (from versions: none)\u001b[0m\n",
            "\u001b[31mERROR: No matching distribution found for umap-learn.plot\u001b[0m\n"
          ],
          "name": "stdout"
        },
        {
          "output_type": "stream",
          "text": [
            "/usr/local/lib/python3.6/dist-packages/umap/plot.py:29: UserWarning: The umap.plot package requires extra plotting libraries to be installed.\n",
            "    You can install these via pip using\n",
            "\n",
            "    pip install umap-learn[plot]\n",
            "\n",
            "    or via conda using\n",
            "\n",
            "    conda install datashader bokeh holoviews colorcet\n",
            "    \n",
            "  \"\"\"\n"
          ],
          "name": "stderr"
        },
        {
          "output_type": "error",
          "ename": "ImportError",
          "evalue": "ignored",
          "traceback": [
            "\u001b[0;31m---------------------------------------------------------------------------\u001b[0m",
            "\u001b[0;31mImportError\u001b[0m                               Traceback (most recent call last)",
            "\u001b[0;32m<ipython-input-93-e63741f43593>\u001b[0m in \u001b[0;36m<module>\u001b[0;34m()\u001b[0m\n\u001b[1;32m      2\u001b[0m \u001b[0;32mimport\u001b[0m \u001b[0mumap\u001b[0m\u001b[0;34m\u001b[0m\u001b[0;34m\u001b[0m\u001b[0m\n\u001b[1;32m      3\u001b[0m \u001b[0;32mimport\u001b[0m \u001b[0mnumpy\u001b[0m\u001b[0;34m\u001b[0m\u001b[0;34m\u001b[0m\u001b[0m\n\u001b[0;32m----> 4\u001b[0;31m \u001b[0;32mimport\u001b[0m \u001b[0mumap\u001b[0m\u001b[0;34m.\u001b[0m\u001b[0mplot\u001b[0m\u001b[0;34m\u001b[0m\u001b[0;34m\u001b[0m\u001b[0m\n\u001b[0m\u001b[1;32m      5\u001b[0m \u001b[0;34m\u001b[0m\u001b[0m\n\u001b[1;32m      6\u001b[0m \u001b[0mmapper\u001b[0m \u001b[0;34m=\u001b[0m \u001b[0mumap\u001b[0m\u001b[0;34m.\u001b[0m\u001b[0mUMAP\u001b[0m\u001b[0;34m(\u001b[0m\u001b[0;34m)\u001b[0m\u001b[0;34m.\u001b[0m\u001b[0mfit\u001b[0m\u001b[0;34m(\u001b[0m\u001b[0mX\u001b[0m\u001b[0;34m)\u001b[0m\u001b[0;34m\u001b[0m\u001b[0;34m\u001b[0m\u001b[0m\n",
            "\u001b[0;32m/usr/local/lib/python3.6/dist-packages/umap/plot.py\u001b[0m in \u001b[0;36m<module>\u001b[0;34m()\u001b[0m\n\u001b[1;32m     32\u001b[0m         \u001b[0;34m\"umap.plot requires matplotlib, datashader, colorcet and holoviews to be \"\u001b[0m\u001b[0;34m\u001b[0m\u001b[0;34m\u001b[0m\u001b[0m\n\u001b[1;32m     33\u001b[0m         \u001b[0;34m\"installed\"\u001b[0m\u001b[0;34m\u001b[0m\u001b[0;34m\u001b[0m\u001b[0m\n\u001b[0;32m---> 34\u001b[0;31m     ) from None\n\u001b[0m\u001b[1;32m     35\u001b[0m \u001b[0;34m\u001b[0m\u001b[0m\n\u001b[1;32m     36\u001b[0m \u001b[0;32mimport\u001b[0m \u001b[0msklearn\u001b[0m\u001b[0;34m.\u001b[0m\u001b[0mdecomposition\u001b[0m\u001b[0;34m\u001b[0m\u001b[0;34m\u001b[0m\u001b[0m\n",
            "\u001b[0;31mImportError\u001b[0m: umap.plot requires matplotlib, datashader, colorcet and holoviews to be installed",
            "",
            "\u001b[0;31m---------------------------------------------------------------------------\u001b[0;32m\nNOTE: If your import is failing due to a missing package, you can\nmanually install dependencies using either !pip or !apt.\n\nTo view examples of installing some common dependencies, click the\n\"Open Examples\" button below.\n\u001b[0;31m---------------------------------------------------------------------------\u001b[0m\n"
          ]
        }
      ]
    },
    {
      "cell_type": "code",
      "metadata": {
        "id": "w8lUcNHjYF0y",
        "colab_type": "code",
        "outputId": "c3965ef3-a12c-49a7-d8e3-e39f82a98fbe",
        "colab": {
          "base_uri": "https://localhost:8080/",
          "height": 367
        }
      },
      "source": [
        "!pip install hdbscan"
      ],
      "execution_count": 0,
      "outputs": [
        {
          "output_type": "stream",
          "text": [
            "Collecting hdbscan\n",
            "\u001b[?25l  Downloading https://files.pythonhosted.org/packages/22/2f/2423d844072f007a74214c1adc46260e45f034bb1679ccadfbb8a601f647/hdbscan-0.8.26.tar.gz (4.7MB)\n",
            "\u001b[K     |████████████████████████████████| 4.7MB 2.6MB/s \n",
            "\u001b[?25h  Installing build dependencies ... \u001b[?25l\u001b[?25hdone\n",
            "  Getting requirements to build wheel ... \u001b[?25l\u001b[?25hdone\n",
            "    Preparing wheel metadata ... \u001b[?25l\u001b[?25hdone\n",
            "Requirement already satisfied: scikit-learn>=0.17 in /usr/local/lib/python3.6/dist-packages (from hdbscan) (0.22.2.post1)\n",
            "Requirement already satisfied: scipy>=0.9 in /usr/local/lib/python3.6/dist-packages (from hdbscan) (1.4.1)\n",
            "Requirement already satisfied: cython>=0.27 in /usr/local/lib/python3.6/dist-packages (from hdbscan) (0.29.16)\n",
            "Requirement already satisfied: joblib in /usr/local/lib/python3.6/dist-packages (from hdbscan) (0.14.1)\n",
            "Requirement already satisfied: six in /usr/local/lib/python3.6/dist-packages (from hdbscan) (1.12.0)\n",
            "Requirement already satisfied: numpy>=1.16.0 in /usr/local/lib/python3.6/dist-packages (from hdbscan) (1.18.2)\n",
            "Building wheels for collected packages: hdbscan\n",
            "  Building wheel for hdbscan (PEP 517) ... \u001b[?25l\u001b[?25hdone\n",
            "  Created wheel for hdbscan: filename=hdbscan-0.8.26-cp36-cp36m-linux_x86_64.whl size=2361272 sha256=4e69d35742748f6a66dd1b0d1fdec7cece18233ae2f94bf5ed80129bf2490e8a\n",
            "  Stored in directory: /root/.cache/pip/wheels/82/38/41/372f034d8abd271ef7787a681e0a47fc05d472683a7eb088ed\n",
            "Successfully built hdbscan\n",
            "Installing collected packages: hdbscan\n",
            "Successfully installed hdbscan-0.8.26\n"
          ],
          "name": "stdout"
        }
      ]
    },
    {
      "cell_type": "code",
      "metadata": {
        "id": "1fnQavbBYHh_",
        "colab_type": "code",
        "outputId": "746a1d6b-aeac-4d40-cc4f-482c74f2f4e9",
        "colab": {
          "base_uri": "https://localhost:8080/",
          "height": 300
        }
      },
      "source": [
        "import hdbscan\n",
        "from sklearn.datasets import make_blobs\n",
        "a = embedding\n",
        "clusterer = hdbscan.HDBSCAN(min_cluster_size=5, min_samples = 5).fit(embedding)\n",
        "print(clusterer.labels_.max())\n",
        "\n",
        "color_palette = sns.color_palette('Paired', clusterer.labels_.max() + 1)\n",
        "cluster_colors = [color_palette[x] if x >= 0 else (0.5, 0.5, 0.5) for x in clusterer.labels_]\n",
        "cluster_member_colors = [sns.desaturate(x, p) for x, p in\n",
        "                         zip(cluster_colors, clusterer.probabilities_)]\n",
        "plt.scatter(*embedding.T, s=5, linewidth=0, c=cluster_member_colors, alpha=0.25)"
      ],
      "execution_count": 0,
      "outputs": [
        {
          "output_type": "stream",
          "text": [
            "207\n"
          ],
          "name": "stdout"
        },
        {
          "output_type": "execute_result",
          "data": {
            "text/plain": [
              "<matplotlib.collections.PathCollection at 0x7feed4172dd8>"
            ]
          },
          "metadata": {
            "tags": []
          },
          "execution_count": 66
        },
        {
          "output_type": "display_data",
          "data": {
            "image/png": "[encoded data removed]",
            "text/plain": [
              "<Figure size 432x288 with 1 Axes>"
            ]
          },
          "metadata": {
            "tags": [],
            "needs_background": "light"
          }
        }
      ]
    },
    {
      "cell_type": "code",
      "metadata": {
        "id": "hki3hk3RQ3pn",
        "colab_type": "code",
        "outputId": "b92d72c4-fce7-478c-f45c-7680c4a51cb0",
        "colab": {
          "base_uri": "https://localhost:8080/",
          "height": 139
        }
      },
      "source": [
        "print(embedding)"
      ],
      "execution_count": 0,
      "outputs": [
        {
          "output_type": "stream",
          "text": [
            "[[ 7.16827     1.9446443 ]\n",
            " [-7.962232    2.6540387 ]\n",
            " [-8.670106    4.814838  ]\n",
            " ...\n",
            " [-6.2995725   3.7145793 ]\n",
            " [ 5.3293166  -0.84797424]\n",
            " [ 5.38489    -0.8994349 ]]\n"
          ],
          "name": "stdout"
        }
      ]
    },
    {
      "cell_type": "code",
      "metadata": {
        "id": "QrYx4D2NRT6z",
        "colab_type": "code",
        "outputId": "49942bc3-10af-429b-cb6d-ff9be30cae4e",
        "colab": {
          "base_uri": "https://localhost:8080/",
          "height": 35
        }
      },
      "source": [
        "print(embedding.shape)"
      ],
      "execution_count": 0,
      "outputs": [
        {
          "output_type": "stream",
          "text": [
            "(3837, 2)\n"
          ],
          "name": "stdout"
        }
      ]
    },
    {
      "cell_type": "code",
      "metadata": {
        "id": "nmX1xheYRVgW",
        "colab_type": "code",
        "colab": {}
      },
      "source": [
        ""
      ],
      "execution_count": 0,
      "outputs": []
    }
  ]
}